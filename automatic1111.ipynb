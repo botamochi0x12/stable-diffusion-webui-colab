{
  "cells": [
    {
      "cell_type": "markdown",
      "metadata": {
        "id": "view-in-github",
        "colab_type": "text"
      },
      "source": [
        "<a href=\"https://colab.research.google.com/github/ddPn08/stable-diffusion-webui-colab/blob/main/automatic1111.ipynb\" target=\"_parent\"><img src=\"https://colab.research.google.com/assets/colab-badge.svg\" alt=\"Open In Colab\"/></a>"
      ]
    },
    {
      "cell_type": "markdown",
      "metadata": {
        "id": "A6OFCYOzNjDX"
      },
      "source": [
        "# Stable Diffusion WebUI Colab by [ddPn08](https://github.com/ddpn08/)\n",
        "\n",
        "This colab runs from the repo [`automatic1111`](https://github.com/AUTOMATIC1111/stable-diffusion-webui)  \n",
        "このColabは[`automatic1111`](https://github.com/AUTOMATIC1111/stable-diffusion-webui) を使用しています。\n"
      ]
    },
    {
      "cell_type": "markdown",
      "metadata": {
        "id": "TE45Pqn_N81E"
      },
      "source": [
        "## 1 - Setup"
      ]
    },
    {
      "cell_type": "markdown",
      "metadata": {
        "id": "4cXkcQu6OEAu"
      },
      "source": [
        "### 1.1 Download repo and install\n",
        "\n",
        "Clone git repo and setup miniconda\n",
        "> Gitリポジトリをクローン、minicondaのセットアップ"
      ]
    },
    {
      "cell_type": "code",
      "execution_count": null,
      "metadata": {
        "cellView": "form",
        "id": "yzdbQDudNZ6j"
      },
      "outputs": [],
      "source": [
        "# @markdown ## Clone the automatic1111/stable-diffusion-webui\n",
        "\n",
        "webui_branch = \"master\"  # @param {type: \"string\"}\n",
        "\n",
        "! git clone https://github.com/AUTOMATIC1111/stable-diffusion-webui\n",
        "%cd stable-diffusion-webui\n",
        "! git checkout {webui_branch}\n",
        "\n",
        "import sys\n",
        "\n",
        "! curl -O https://repo.anaconda.com/miniconda/Miniconda3-latest-Linux-x86_64.sh\n",
        "! chmod +x Miniconda3-latest-Linux-x86_64.sh\n",
        "! bash ./Miniconda3-latest-Linux-x86_64.sh -b -f -p /usr/local\n",
        "sys.path.append(\"/usr/local/lib/python3.8/site-packages/\")\n",
        "! rm Miniconda3-latest-Linux-x86_64.sh\n",
        "! conda env update -n base -f environment-wsl2.yaml\n",
        "\n",
        "! pip install -r requirements.txt\n",
        "! mkdir repositories\n",
        "! git clone https://github.com/CompVis/stable-diffusion.git repositories/stable-diffusion\n",
        "! git clone https://github.com/CompVis/taming-transformers.git repositories/taming-transformers\n",
        "! git clone https://github.com/sczhou/CodeFormer.git repositories/CodeFormer\n",
        "! git clone https://github.com/salesforce/BLIP.git repositories/BLIP\n",
        "! pip install -r repositories/CodeFormer/requirements.txt"
      ]
    },
    {
      "cell_type": "markdown",
      "metadata": {
        "id": "tOHgDng2c0FX"
      },
      "source": [
        "### 1.2 Setup models"
      ]
    },
    {
      "cell_type": "code",
      "execution_count": null,
      "metadata": {
        "cellView": "form",
        "id": "Mls4_48XOrTd"
      },
      "outputs": [],
      "source": [
        "# @markdown # Load the stable-diffusion model\n",
        "# @markdown > ### stable-diffusionのモデルをロード\n",
        "\n",
        "# @markdown **Model Path Variables**\n",
        "# ask for the link\n",
        "print(\"Local Path Variables:\\n\")\n",
        "\n",
        "model_filename = \"sd-v1-4.ckpt\"  # @param {type:\"string\"}\n",
        "models_path = \"/content/models\"  # @param {type:\"string\"}\n",
        "output_path = \"/content/output\"  # @param {type:\"string\"}\n",
        "config_path = \"/content/config\" # @param {type:\"string\"}\n",
        "\n",
        "# @markdown **Download the model if it isn't already in the `models_path` folder (Optional)**\n",
        "# @markdown > モデルが`models_path`フォルダーにない場合に、モデルをダウンロードする\n",
        "\n",
        "# @markdown To download the model, you need to have accepted the terms [HERE](https://huggingface.co/CompVis/stable-diffusion-v1-4)\n",
        "# @markdown and have copied a token from [HERE](https://huggingface.co/settings/tokens)\n",
        "\n",
        "# @markdown > モデルをダウンロードするには, [このページ](https://huggingface.co/CompVis/stable-diffusion-v1-4)で条件に同意する必要があります。\n",
        "# @markdown > また、[このページ](https://huggingface.co/settings/tokens)からトークンを取得する必要があります。\n",
        "download_if_missing = False  # @param {type:\"boolean\"}\n",
        "model_url = \"https://huggingface.co/CompVis/stable-diffusion-v-1-4-original/resolve/main/sd-v1-4.ckpt\"  # @param {type:\"string\"}\n",
        "token = \"\"  # @param {type:\"string\"}\n",
        "\n",
        "# @markdown **Google Drive Path Variables (Optional)**\n",
        "mount_google_drive = True  # @param {type:\"boolean\"}\n",
        "force_remount = False\n",
        "\n",
        "%cd /content/\n",
        "import os\n",
        "\n",
        "mount_success = True\n",
        "if mount_google_drive:\n",
        "    from google.colab import drive\n",
        "\n",
        "    try:\n",
        "        drive_path = \"/content/drive\"\n",
        "        drive.mount(drive_path, force_remount=force_remount)\n",
        "        models_path_gdrive = \"/content/drive/MyDrive/AI/models\"  # @param {type:\"string\"}\n",
        "        output_path_gdrive = \"/content/drive/MyDrive/AI/automatic1111/outputs\"  # @param {type:\"string\"}\n",
        "        config_path_gdrive = \"/content/drive/MyDrive/AI/automatic1111/config\" # @param {type:\"string\"}\n",
        "        models_path = models_path_gdrive\n",
        "        output_path = output_path_gdrive\n",
        "        config_path = config_path_gdrive\n",
        "    except:\n",
        "        print(\"...error mounting drive or with drive path variables\")\n",
        "        print(\"...reverting to default path variables\")\n",
        "        mount_success = False\n",
        "\n",
        "os.makedirs(models_path, exist_ok=True)\n",
        "os.makedirs(output_path, exist_ok=True)\n",
        "os.makedirs(config_path, exist_ok=True)\n",
        "\n",
        "if not os.path.exists(f'{config_path}/config.json'):\n",
        "    with open(f'{config_path}/config.json', mode='w') as f:\n",
        "        f.write('{\"outdir_samples\": \"' + output_path + '\"}')\n",
        "\n",
        "if download_if_missing:\n",
        "    if not mount_success:\n",
        "        print(\"Downloading model to \" + models_path + \" due to gdrive mount error\")\n",
        "    elif not os.path.exists(models_path + \"/\" + model_filename):\n",
        "        ! mkdir sd-model\n",
        "        %cd /content/sd-model/\n",
        "        ! curl -LJ {model_url} -H {'\"Authorization: Bearer ' + token + '\"' if token else \"\"} -o {model_filename}\n",
        "        ! mv /content/sd-model/{model_filename} {models_path}/\n",
        "        %cd /content/\n",
        "    else:\n",
        "        print(\"Model already downloaded, moving to next step\")\n",
        "\n",
        "print(f\"models_path: {models_path}\")\n",
        "print(f\"output_path: {output_path}\")\n",
        "print(f\"config_path: {config_path}\")"
      ]
    },
    {
      "cell_type": "code",
      "execution_count": null,
      "metadata": {
        "cellView": "form",
        "id": "DzMlOhl0Rerq"
      },
      "outputs": [],
      "source": [
        "# @markdown ## Download GFPGAN model\n",
        "# @markdown **GFPGAN** Automatically correct distorted faces with a built-in GFPGAN option, fixes them in less than half a second\n",
        "# @markdown > **GFPGAN** オプションで歪んだ顔を自動的に修正し、0.5秒未満で修正します\n",
        "\n",
        "%cd stable-diffusion-webui\n",
        "! curl -LOJ https://github.com/TencentARC/GFPGAN/releases/download/v1.3.0/GFPGANv1.3.pth"
      ]
    },
    {
      "cell_type": "markdown",
      "metadata": {
        "id": "3JkrcrPBza-M"
      },
      "source": [
        "## 2 Optional - Set webUI settings and configs before running"
      ]
    },
    {
      "cell_type": "code",
      "execution_count": null,
      "metadata": {
        "cellView": "form",
        "id": "goUvyTZ4zd4l"
      },
      "outputs": [],
      "source": [
        "# @markdown # Launch preferences - Advanced\n",
        "# @markdown # 詳細設定\n",
        "\n",
        "no_half = False  # @param {type:\"boolean\"}\n",
        "# @markdown * Do not switch the model to 16-bit floats\n",
        "# @markdown > モデルを16ビットfloatに切り替えない\n",
        "no_progressbar_hiding = False  # @param {type:\"boolean\"}\n",
        "# @markdown * Do not hide progressbar in gradio UI (we hide it because it slows down ML if you have hardware acceleration in browser)\n",
        "# @markdown > プログレスバーを非表示にしない (ブラウザにハードウェアアクセラレーションが場合MLが遅くなるため非表示にすることを推奨します)\n",
        "medvram = False  # @param {type:\"boolean\"}\n",
        "# @markdown * Enable stable diffusion model optimizations for sacrificing a little speed for low VRM usage\n",
        "# @markdown > Stable-Diffusionモデルの最適化により、速度を少し犠牲にしてVRMの使用量を少なくすることが可能です\n",
        "lowvram = False # @param {type:\"boolean\"}\n",
        "# @markdown * Enable stable diffusion model optimizations for sacrificing a lot of speed for very low VRM usage\n",
        "# @markdown > Stable-Diffusionモデルの最適化により、多くの速度を犠牲にして非常に低いVRM使用率を実現することが可能\n",
        "disable_opt_split_attention = False # @param {type:\"boolean\"}\n",
        "# @markdown * Force-disables cross-attention layer optimization\n",
        "# @markdown > クロスアテンションレイヤーの最適化を強制的に無効にします\n",
        "\n",
        "run_string_with_variables = {\n",
        "    \"--no-half\": f\"{no_half}\",\n",
        "    \"--no-progressbar-hiding\": f\"{no_progressbar_hiding}\",\n",
        "    \"--medvram\": f\"{medvram}\",\n",
        "    \"--lowvram\": f\"{lowvram}\",\n",
        "    \"--disable-opt-split-attention\": f\"{disable_opt_split_attention}\"\n",
        "}\n",
        "\n",
        "only_true_vars = {k for (k, v) in run_string_with_variables.items() if v == \"True\"}\n",
        "vars = \" \".join(only_true_vars)"
      ]
    },
    {
      "cell_type": "markdown",
      "metadata": {
        "id": "htQtwGXHTaob"
      },
      "source": [
        "## 3 - Launch WebUI for stable diffusion"
      ]
    },
    {
      "cell_type": "markdown",
      "source": [],
      "metadata": {
        "id": "Lo6vv603TiaF"
      }
    },
    {
      "cell_type": "code",
      "execution_count": null,
      "metadata": {
        "cellView": "form",
        "id": "Y4ebYsPqTrGb"
      },
      "outputs": [],
      "source": [
        "#@markdown keep in mind that this script is set to run for ever.\n",
        "#@markdown > ※注意 このスクリプトは永久に実行されます。\n",
        "\n",
        "#@markdown # Important - click the public URL to launch WebUI in another tab\n",
        "#@markdown > ### 重要 - 公開URLをクリックしてWebUIを起動してください\n",
        "\n",
        "#@markdown ![](https://user-images.githubusercontent.com/71378929/189563599-6df78bcf-133b-41e8-a55d-8ca3783cd933.png)\n",
        "\n",
        "! git pull\n",
        "! python webui.py \\\n",
        "  --share \\\n",
        "  --ckpt-dir {models_path} \\\n",
        "  --ckpt {models_path}/{model_filename} \\\n",
        "  --ui-config-file {config_path}/ui-config.json \\\n",
        "  --ui-settings-file {config_path}/config.json \\\n",
        "  --styles-file {config_path}/styles.csv \\\n",
        "  $vars"
      ]
    }
  ],
  "metadata": {
    "accelerator": "GPU",
    "colab": {
      "collapsed_sections": [],
      "machine_shape": "hm",
      "name": "automatic1111-stable-diffusion-webui",
      "provenance": [],
      "include_colab_link": true
    },
    "kernelspec": {
      "display_name": "Python 3",
      "name": "python3"
    },
    "language_info": {
      "name": "python"
    }
  },
  "nbformat": 4,
  "nbformat_minor": 0
}